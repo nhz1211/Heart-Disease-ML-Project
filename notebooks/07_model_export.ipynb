{
 "cells": [
  {
   "cell_type": "code",
   "execution_count": 10,
   "id": "66116ec2",
   "metadata": {},
   "outputs": [
    {
     "name": "stdout",
     "output_type": "stream",
     "text": [
      "Final model exported as final_model.pkl\n"
     ]
    }
   ],
   "source": [
    "import pandas as pd\n",
    "from sklearn.model_selection import train_test_split\n",
    "from sklearn.preprocessing import StandardScaler\n",
    "from sklearn.pipeline import Pipeline\n",
    "from sklearn.ensemble import RandomForestClassifier\n",
    "import joblib\n",
    "\n",
    "# -----------------------------\n",
    "# 1. Load dataset\n",
    "# -----------------------------\n",
    "df = pd.read_csv(\"../data/heart_selected_features.csv\")\n",
    "\n",
    "X = df.drop(\"target\", axis=1)\n",
    "y = df[\"target\"]\n",
    "\n",
    "X_train, X_test, y_train, y_test = train_test_split(\n",
    "    X, y, test_size=0.2, stratify=y, random_state=42\n",
    ")\n",
    "\n",
    "\n",
    "\n",
    "# -----------------------------\n",
    "# 2. Define best model (from Step 6)\n",
    "# -----------------------------\n",
    "best_rf = RandomForestClassifier(\n",
    "    n_estimators=100,\n",
    "    max_depth=5,\n",
    "    min_samples_split=10,\n",
    "    min_samples_leaf=1,\n",
    "    max_features='log2',\n",
    "    random_state=42\n",
    ")\n",
    "\n",
    "\n",
    "\n",
    "# -----------------------------\n",
    "# 3. Create pipeline (Scaler + RF)\n",
    "# -----------------------------\n",
    "pipeline = Pipeline([\n",
    "    (\"scaler\", StandardScaler()),\n",
    "    (\"classifier\", best_rf)\n",
    "])\n",
    "\n",
    "# Train pipeline\n",
    "pipeline.fit(X_train, y_train)\n",
    "\n",
    "\n",
    "\n",
    "# -----------------------------\n",
    "# 4. Export model\n",
    "# -----------------------------\n",
    "joblib.dump(pipeline, \"../models/final_model.pkl\")\n",
    "print(\"Final model exported as final_model.pkl\")\n"
   ]
  },
  {
   "cell_type": "code",
   "execution_count": 11,
   "id": "04cf2962",
   "metadata": {},
   "outputs": [
    {
     "name": "stdout",
     "output_type": "stream",
     "text": [
      "\n",
      "Testing loaded model:\n",
      " Patient 1: Predicted=0, Actual=0\n",
      " Patient 2: Predicted=0, Actual=0\n",
      " Patient 3: Predicted=0, Actual=0\n",
      " Patient 4: Predicted=1, Actual=0\n",
      " Patient 5: Predicted=0, Actual=0\n",
      " Patient 6: Predicted=0, Actual=0\n",
      " Patient 7: Predicted=1, Actual=1\n",
      " Patient 8: Predicted=0, Actual=0\n",
      " Patient 9: Predicted=0, Actual=1\n",
      " Patient 10: Predicted=0, Actual=0\n"
     ]
    }
   ],
   "source": [
    "# -----------------------------\n",
    "# 5. Test: Load model and predict\n",
    "# -----------------------------\n",
    "loaded_model = joblib.load(\"../models/final_model.pkl\")\n",
    "\n",
    "# Test on some real X_test samples\n",
    "sample = X_test.iloc[0:10]\n",
    "true_labels = y_test.iloc[0:10].values\n",
    "predictions = loaded_model.predict(sample)\n",
    "\n",
    "print(\"\\nTesting loaded model:\")\n",
    "for i, (pred, true) in enumerate(zip(predictions, true_labels)):\n",
    "    print(f\" Patient {i+1}: Predicted={pred}, Actual={true}\")"
   ]
  },
  {
   "cell_type": "markdown",
   "id": "af0ba611",
   "metadata": {},
   "source": [
    "🔍 8/10 correct --> 80% accuracy \n",
    "✅ Model is working as expected."
   ]
  }
 ],
 "metadata": {
  "kernelspec": {
   "display_name": "venv",
   "language": "python",
   "name": "python3"
  },
  "language_info": {
   "codemirror_mode": {
    "name": "ipython",
    "version": 3
   },
   "file_extension": ".py",
   "mimetype": "text/x-python",
   "name": "python",
   "nbconvert_exporter": "python",
   "pygments_lexer": "ipython3",
   "version": "3.13.6"
  }
 },
 "nbformat": 4,
 "nbformat_minor": 5
}
